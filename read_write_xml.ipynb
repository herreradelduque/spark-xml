{
 "cells": [
  {
   "cell_type": "code",
   "execution_count": 15,
   "id": "fdf0a67e",
   "metadata": {},
   "outputs": [],
   "source": [
    "# To download dependencies, execute the following command in the terminal:\n",
    "# ❯ spark-submit --packages com.databricks:spark-xml_2.12:0.13.0 xml.py\n",
    "\n",
    "from pyspark.sql import SparkSession\n",
    "from pyspark.sql.functions import *\n",
    "from pyspark.sql.types import *\n",
    "\n"
   ]
  },
  {
   "cell_type": "code",
   "execution_count": 16,
   "id": "c53b4ef8",
   "metadata": {},
   "outputs": [],
   "source": [
    "# Initialize SparkSession\n",
    "spark = SparkSession.builder.appName(\"ReadXML\").config(\"spark.jars.packages\", \"com.databricks:spark-xml_2.12:0.13.0\").getOrCreate()"
   ]
  },
  {
   "cell_type": "code",
   "execution_count": 17,
   "id": "d4521853",
   "metadata": {},
   "outputs": [],
   "source": [
    "# Define the path to your XML file\n",
    "xml_file_path = \"books.xml\"\n",
    "\n",
    "rowTag = \"book\""
   ]
  },
  {
   "cell_type": "code",
   "execution_count": 18,
   "id": "5ca90c44",
   "metadata": {},
   "outputs": [],
   "source": [
    "# Read XML file into DataFrame\n",
    "df = spark.read \\\n",
    "    .format('com.databricks.spark.xml') \\\n",
    "    .option(\"rowTag\", rowTag) \\\n",
    "    .load(xml_file_path)"
   ]
  },
  {
   "cell_type": "code",
   "execution_count": 19,
   "id": "fa766461",
   "metadata": {},
   "outputs": [
    {
     "name": "stdout",
     "output_type": "stream",
     "text": [
      "Reading XML...\n",
      "root\n",
      " |-- _id: string (nullable = true)\n",
      " |-- author: string (nullable = true)\n",
      " |-- description: string (nullable = true)\n",
      " |-- genre: string (nullable = true)\n",
      " |-- price: double (nullable = true)\n",
      " |-- publish_date: date (nullable = true)\n",
      " |-- title: string (nullable = true)\n",
      "\n"
     ]
    }
   ],
   "source": [
    "print(\"Reading XML...\")\n",
    "# Print DataFrame schema\n",
    "df.printSchema()"
   ]
  },
  {
   "cell_type": "code",
   "execution_count": 13,
   "id": "e6d5dd5f",
   "metadata": {},
   "outputs": [
    {
     "name": "stdout",
     "output_type": "stream",
     "text": [
      "+-----+--------------------+---------------------------------------------------------------------------------------------------------------------------------------------------------------------------------------------------------------------------------------------------------------------------------------------------------------------------------------------------------------------------------------------------------------------------------------------------------------------------------------------------------------------------------------------------------------------------------------------------------------------------------------------------------------------------------------------------------------------------------------------------------------------------------------------------------------------------------------------------------------------------------------------------------------------------------------------------------------------------------------------------------------------------------------------------------------------------------------------------------------------------------------------------------------------------------------------------------------------------------------------+---------------+-----+------------+--------------------------------------+\n",
      "|_id  |author              |description                                                                                                                                                                                                                                                                                                                                                                                                                                                                                                                                                                                                                                                                                                                                                                                                                                                                                                                                                                                                                                                                                                                                                                                                                                  |genre          |price|publish_date|title                                 |\n",
      "+-----+--------------------+---------------------------------------------------------------------------------------------------------------------------------------------------------------------------------------------------------------------------------------------------------------------------------------------------------------------------------------------------------------------------------------------------------------------------------------------------------------------------------------------------------------------------------------------------------------------------------------------------------------------------------------------------------------------------------------------------------------------------------------------------------------------------------------------------------------------------------------------------------------------------------------------------------------------------------------------------------------------------------------------------------------------------------------------------------------------------------------------------------------------------------------------------------------------------------------------------------------------------------------------+---------------+-----+------------+--------------------------------------+\n",
      "|bk101|Gambardella, Matthew|\\n\\n\\n         An in-depth look at creating applications\\n         with XML.This manual describes Oracle XML DB, and how you can use it to store, generate, manipulate, manage,\\n         and query XML data in the database.\\n\\n\\n         After introducing you to the heart of Oracle XML DB, namely the XMLType framework and Oracle XML DB repository,\\n         the manual provides a brief introduction to design criteria to consider when planning your Oracle XML DB\\n         application. It provides examples of how and where you can use Oracle XML DB.\\n\\n\\n         The manual then describes ways you can store and retrieve XML data using Oracle XML DB, APIs for manipulating\\n         XMLType data, and ways you can view, generate, transform, and search on existing XML data. The remainder of\\n         the manual discusses how to use Oracle XML DB repository, including versioning and security,\\n         how to access and manipulate repository resources using protocols, SQL, PL/SQL, or Java, and how to manage\\n         your Oracle XML DB application using Oracle Enterprise Manager. It also introduces you to XML messaging and\\n         Oracle Streams Advanced Queuing XMLType support.\\n      |Computer       |44.95|2000-10-01  |XML Developer's Guide                 |\n",
      "|bk102|Ralls, Kim          |A former architect battles corporate zombies, \\n      an evil sorceress, and her own childhood to become queen \\n      of the world.                                                                                                                                                                                                                                                                                                                                                                                                                                                                                                                                                                                                                                                                                                                                                                                                                                                                                                                                                                                                                                                                                                         |Fantasy        |5.95 |2000-12-16  |Midnight Rain                         |\n",
      "|bk103|Corets, Eva         |After the collapse of a nanotechnology \\n      society in England, the young survivors lay the \\n      foundation for a new society.                                                                                                                                                                                                                                                                                                                                                                                                                                                                                                                                                                                                                                                                                                                                                                                                                                                                                                                                                                                                                                                                                                         |Fantasy        |5.95 |2000-11-17  |Maeve Ascendant                       |\n",
      "|bk104|Corets, Eva         |In post-apocalypse England, the mysterious \\n      agent known only as Oberon helps to create a new life \\n      for the inhabitants of London. Sequel to Maeve \\n      Ascendant.                                                                                                                                                                                                                                                                                                                                                                                                                                                                                                                                                                                                                                                                                                                                                                                                                                                                                                                                                                                                                                                           |Fantasy        |5.95 |2001-03-10  |Oberon's Legacy                       |\n",
      "|bk105|Corets, Eva         |The two daughters of Maeve, half-sisters, \\n      battle one another for control of England. Sequel to \\n      Oberon's Legacy.                                                                                                                                                                                                                                                                                                                                                                                                                                                                                                                                                                                                                                                                                                                                                                                                                                                                                                                                                                                                                                                                                                              |Fantasy        |5.95 |2001-09-10  |The Sundered Grail                    |\n",
      "|bk106|Randall, Cynthia    |When Carla meets Paul at an ornithology \\n      conference, tempers fly as feathers get ruffled.                                                                                                                                                                                                                                                                                                                                                                                                                                                                                                                                                                                                                                                                                                                                                                                                                                                                                                                                                                                                                                                                                                                                             |Romance        |4.95 |2000-09-02  |Lover Birds                           |\n",
      "|bk107|Thurman, Paula      |A deep sea diver finds true love twenty \\n      thousand leagues beneath the sea.                                                                                                                                                                                                                                                                                                                                                                                                                                                                                                                                                                                                                                                                                                                                                                                                                                                                                                                                                                                                                                                                                                                                                            |Romance        |4.95 |2000-11-02  |Splish Splash                         |\n",
      "|bk108|Knorr, Stefan       |An anthology of horror stories about roaches,\\n      centipedes, scorpions  and other insects.                                                                                                                                                                                                                                                                                                                                                                                                                                                                                                                                                                                                                                                                                                                                                                                                                                                                                                                                                                                                                                                                                                                                               |Horror         |4.95 |2000-12-06  |Creepy Crawlies                       |\n",
      "|bk109|Kress, Peter        |After an inadvertant trip through a Heisenberg\\n      Uncertainty Device, James Salway discovers the problems \\n      of being quantum.                                                                                                                                                                                                                                                                                                                                                                                                                                                                                                                                                                                                                                                                                                                                                                                                                                                                                                                                                                                                                                                                                                      |Science Fiction|6.95 |2000-11-02  |Paradox Lost                          |\n",
      "|bk110|O'Brien, Tim        |Microsoft's .NET initiative is explored in \\n      detail in this deep programmer's reference.                                                                                                                                                                                                                                                                                                                                                                                                                                                                                                                                                                                                                                                                                                                                                                                                                                                                                                                                                                                                                                                                                                                                               |Computer       |36.95|2000-12-09  |Microsoft .NET: The Programming Bible |\n",
      "|bk111|O'Brien, Tim        |The Microsoft MSXML3 parser is covered in \\n      detail, with attention to XML DOM interfaces, XSLT processing, \\n      SAX and more.                                                                                                                                                                                                                                                                                                                                                                                                                                                                                                                                                                                                                                                                                                                                                                                                                                                                                                                                                                                                                                                                                                       |Computer       |36.95|2000-12-01  |MSXML3: A Comprehensive Guide         |\n",
      "|bk112|Galos, Mike         |Microsoft Visual Studio 7 is explored in depth,\\n      looking at how Visual Basic, Visual C++, C#, and ASP+ are \\n      integrated into a comprehensive development \\n      environment.                                                                                                                                                                                                                                                                                                                                                                                                                                                                                                                                                                                                                                                                                                                                                                                                                                                                                                                                                                                                                                                    |Computer       |49.95|2001-04-16  |Visual Studio 7: A Comprehensive Guide|\n",
      "|bk101|Gambardella, Matthew|\\n         An in-depth look at creating applications with XML.\\n                                                                                                                                                                                                                                                                                                                                                                                                                                                                                                                                                                                                                                                                                                                                                                                                                                                                                                                                                                                                                                                                                                                                                                             |Computer       |44.95|2000-10-01  |XML Developer's Guide                 |\n",
      "|bk102|Ralls, Kim          |\\n         A former architect battles corporate zombies.\\n                                                                                                                                                                                                                                                                                                                                                                                                                                                                                                                                                                                                                                                                                                                                                                                                                                                                                                                                                                                                                                                                                                                                                                                   |Fantasy        |5.95 |2000-12-16  |Midnight Rain                         |\n",
      "|bk103|Corets, Eva         |\\n         After the collapse of a nanotechnology society in England.\\n                                                                                                                                                                                                                                                                                                                                                                                                                                                                                                                                                                                                                                                                                                                                                                                                                                                                                                                                                                                                                                                                                                                                                                      |Fantasy        |5.95 |2000-11-17  |Maeve Ascendant                       |\n",
      "+-----+--------------------+---------------------------------------------------------------------------------------------------------------------------------------------------------------------------------------------------------------------------------------------------------------------------------------------------------------------------------------------------------------------------------------------------------------------------------------------------------------------------------------------------------------------------------------------------------------------------------------------------------------------------------------------------------------------------------------------------------------------------------------------------------------------------------------------------------------------------------------------------------------------------------------------------------------------------------------------------------------------------------------------------------------------------------------------------------------------------------------------------------------------------------------------------------------------------------------------------------------------------------------------+---------------+-----+------------+--------------------------------------+\n",
      "\n"
     ]
    }
   ],
   "source": [
    "df.show(truncate=False)"
   ]
  },
  {
   "cell_type": "markdown",
   "id": "832979d5",
   "metadata": {},
   "source": [
    "# Write xml:"
   ]
  },
  {
   "cell_type": "code",
   "execution_count": 25,
   "id": "6b601fcb",
   "metadata": {},
   "outputs": [],
   "source": [
    "data = [(1, \"John\"), (2, \"Jane\"), (3, \"Jim\")]\n",
    "\n",
    "schema = StructType([\n",
    "    StructField(\"id\", IntegerType(), True),\n",
    "    StructField(\"name\", StringType(), True)\n",
    "])"
   ]
  },
  {
   "cell_type": "code",
   "execution_count": 26,
   "id": "5fe61ce5",
   "metadata": {},
   "outputs": [],
   "source": [
    "df = spark.createDataFrame(data, schema)"
   ]
  },
  {
   "cell_type": "code",
   "execution_count": 27,
   "id": "fc2cf585",
   "metadata": {},
   "outputs": [],
   "source": [
    "\n",
    "xmlFile = \"output/xml/file.xml\"\n"
   ]
  },
  {
   "cell_type": "code",
   "execution_count": 30,
   "id": "9a31f6f1",
   "metadata": {},
   "outputs": [
    {
     "name": "stderr",
     "output_type": "stream",
     "text": [
      "                                                                                \r"
     ]
    }
   ],
   "source": [
    "\n",
    "df \\\n",
    "    .select(struct(\"id\", \"name\").alias(\"root\")) \\\n",
    "    .coalesce(1) \\\n",
    "    .write \\\n",
    "    .mode(\"overwrite\") \\\n",
    "    .format('com.databricks.spark.xml') \\\n",
    "    .option('rootTag', 'root') \\\n",
    "    .option('rowTag', 'row') \\\n",
    "    .save(xmlFile)"
   ]
  },
  {
   "cell_type": "code",
   "execution_count": 14,
   "id": "c123578e",
   "metadata": {},
   "outputs": [],
   "source": [
    "# Stop SparkSession\n",
    "spark.stop()"
   ]
  },
  {
   "cell_type": "code",
   "execution_count": null,
   "id": "3fa0a9af",
   "metadata": {},
   "outputs": [],
   "source": []
  }
 ],
 "metadata": {
  "kernelspec": {
   "display_name": "Python (delta_env)",
   "language": "python",
   "name": "delta_env"
  },
  "language_info": {
   "codemirror_mode": {
    "name": "ipython",
    "version": 3
   },
   "file_extension": ".py",
   "mimetype": "text/x-python",
   "name": "python",
   "nbconvert_exporter": "python",
   "pygments_lexer": "ipython3",
   "version": "3.12.3"
  },
  "varInspector": {
   "cols": {
    "lenName": 16,
    "lenType": 16,
    "lenVar": 40
   },
   "kernels_config": {
    "python": {
     "delete_cmd_postfix": "",
     "delete_cmd_prefix": "del ",
     "library": "var_list.py",
     "varRefreshCmd": "print(var_dic_list())"
    },
    "r": {
     "delete_cmd_postfix": ") ",
     "delete_cmd_prefix": "rm(",
     "library": "var_list.r",
     "varRefreshCmd": "cat(var_dic_list()) "
    }
   },
   "types_to_exclude": [
    "module",
    "function",
    "builtin_function_or_method",
    "instance",
    "_Feature"
   ],
   "window_display": false
  }
 },
 "nbformat": 4,
 "nbformat_minor": 5
}
